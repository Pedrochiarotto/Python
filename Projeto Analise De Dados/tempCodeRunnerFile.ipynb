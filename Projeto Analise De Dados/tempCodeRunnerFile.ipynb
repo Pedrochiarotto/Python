#import pandas
# Passo a passo
# Passo 1: Importar a base de dados.
#tabela = pandas.read_csv("cancelamentos.csv")

#print tabela

# Passo 2: Visualizar a base de dados. 
# Passo 3: Tratamento de dados - Corrigir as cagadas da base de dados 
# Passo 4: Análise inicial dos cancelamentos. 
# Passo 5: Análise de causas do cancelamento dos clientes. 
